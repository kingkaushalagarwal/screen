{
 "cells": [
  {
   "cell_type": "code",
   "execution_count": 20,
   "metadata": {
    "collapsed": true
   },
   "outputs": [],
   "source": [
    "#importing required library\n",
    "from selenium import webdriver"
   ]
  },
  {
   "cell_type": "code",
   "execution_count": 28,
   "metadata": {},
   "outputs": [],
   "source": [
    "#opening a webpage\n",
    "# driver = webdriver.Chrome()\n",
    "driver = webdriver.Chrome(\"E:\\programms setup\\chromedriver\")\n",
    "driver.get(\"https://www.javatpoint.com/\")"
   ]
  },
  {
   "cell_type": "code",
   "execution_count": 31,
   "metadata": {
    "collapsed": true
   },
   "outputs": [],
   "source": [
    "#closing the current window\n",
    "driver.quit()"
   ]
  },
  {
   "cell_type": "code",
   "execution_count": 44,
   "metadata": {},
   "outputs": [],
   "source": [
    "#opening a webpage with options\n",
    "options = webdriver.ChromeOptions()\n",
    "options.add_argument(\"--ignore-certificate-errors\")\n",
    "options.add_argument(\"--incognitio\")\n",
    "options.add_argument(\"--headless\")\n",
    "driver = webdriver.Chrome(\"E:\\programms setup\\chromedriver\",options = options)"
   ]
  },
  {
   "cell_type": "code",
   "execution_count": 45,
   "metadata": {
    "collapsed": true
   },
   "outputs": [],
   "source": [
    "driver.get(\"https://www.javatpoint.com/\")"
   ]
  },
  {
   "cell_type": "code",
   "execution_count": 46,
   "metadata": {
    "collapsed": true
   },
   "outputs": [],
   "source": [
    "driver.quit()"
   ]
  },
  {
   "cell_type": "markdown",
   "metadata": {},
   "source": [
    "## Demo 2\n"
   ]
  },
  {
   "cell_type": "code",
   "execution_count": 61,
   "metadata": {},
   "outputs": [],
   "source": [
    "from selenium import webdriver\n",
    "from selenium.webdriver.common.keys import Keys\n",
    "from selenium.webdriver.chrome.options import Options\n",
    "import time"
   ]
  },
  {
   "cell_type": "code",
   "execution_count": 62,
   "metadata": {},
   "outputs": [],
   "source": [
    "#adding options on chrome\n",
    "chromeOptions = Options()\n",
    "# chromeOptions.add_argument(\"--kiosk\")"
   ]
  },
  {
   "cell_type": "markdown",
   "metadata": {},
   "source": [
    "#### Locating elements by name"
   ]
  },
  {
   "cell_type": "code",
   "execution_count": 63,
   "metadata": {},
   "outputs": [],
   "source": [
    "driver = webdriver.Chrome(\"E:\\programms setup\\chromedriver\",options = chromeOptions)\n",
    "driver.get(\"https://www.javatpoint.com/\")\n",
    "\n",
    "ele = driver.find_element_by_name(\"search\")\n",
    "time.sleep(2)\n",
    "ele.clear()\n",
    "ele.send_keys(\"AngularJS\")\n",
    "ele.send_keys(Keys.RETURN)\n",
    "# driver.quit()"
   ]
  },
  {
   "cell_type": "markdown",
   "metadata": {},
   "source": [
    "#### Locating elements by id"
   ]
  },
  {
   "cell_type": "code",
   "execution_count": 74,
   "metadata": {},
   "outputs": [],
   "source": [
    "driver = webdriver.Chrome(\"E:\\programms setup\\chromedriver\",options = chromeOptions)\n",
    "driver.get(\"https://www.javatpoint.com/\")\n",
    "\n",
    "ele = driver.find_element_by_id(\"gsc-i-id1\")\n",
    "\n",
    "time.sleep(2)\n",
    "ele.clear()\n",
    "ele.send_keys(\"AngularJS\")\n",
    "ele.send_keys(Keys.RETURN)\n",
    "time.sleep(1)\n",
    "driver.quit()"
   ]
  },
  {
   "cell_type": "markdown",
   "metadata": {},
   "source": [
    "#### Locate element by link text "
   ]
  },
  {
   "cell_type": "code",
   "execution_count": 75,
   "metadata": {},
   "outputs": [],
   "source": [
    "driver = webdriver.Chrome(\"E:\\programms setup\\chromedriver\",options = chromeOptions)\n",
    "driver.get(\"https://www.javatpoint.com/\")\n",
    "\n",
    "ele = driver.find_element_by_name(\"search\")\n",
    "time.sleep(2)\n",
    "ele.clear()\n",
    "ele.send_keys(\"AngularJS\")\n",
    "ele.send_keys(Keys.RETURN)\n",
    "ele_link = driver.find_element_by_link_text(\"AngularJS First Application - javatpoint\")\n",
    "ele_link.click()\n",
    "drive.quit()"
   ]
  },
  {
   "cell_type": "code",
   "execution_count": 76,
   "metadata": {
    "collapsed": true
   },
   "outputs": [],
   "source": [
    "####Locating element by partial link test"
   ]
  },
  {
   "cell_type": "code",
   "execution_count": 87,
   "metadata": {},
   "outputs": [],
   "source": [
    "# driver = webdriver.Chrome(\"E:\\programms setup\\chromediver\",options = chromeOptions)\n",
    "driver = webdriver.Chrome(\"E:\\programms setup\\chromedriver\",options = chromeOptions)\n",
    "driver.get(\"https://www.javatpoint.com\")\n",
    "ele = driver.find_element_by_name(\"search\")\n",
    "time.sleep(1)\n",
    "ele.clear()\n",
    "ele.send_keys(\"AngularJS\")\n",
    "ele.send_keys(Keys.RETURN)\n",
    "\n"
   ]
  },
  {
   "cell_type": "code",
   "execution_count": 89,
   "metadata": {},
   "outputs": [],
   "source": [
    "ele = driver.find_element_by_partial_link_text(\"AngularJS First Application \")\n",
    "time.sleep(1)\n",
    "ele_link.click()"
   ]
  },
  {
   "cell_type": "code",
   "execution_count": null,
   "metadata": {
    "collapsed": true
   },
   "outputs": [],
   "source": []
  }
 ],
 "metadata": {
  "kernelspec": {
   "display_name": "Python 3",
   "language": "python",
   "name": "python3"
  },
  "language_info": {
   "codemirror_mode": {
    "name": "ipython",
    "version": 3
   },
   "file_extension": ".py",
   "mimetype": "text/x-python",
   "name": "python",
   "nbconvert_exporter": "python",
   "pygments_lexer": "ipython3",
   "version": "3.6.3"
  }
 },
 "nbformat": 4,
 "nbformat_minor": 2
}
